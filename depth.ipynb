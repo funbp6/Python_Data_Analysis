{
 "cells": [
  {
   "cell_type": "code",
   "execution_count": 30,
   "metadata": {
    "scrolled": false
   },
   "outputs": [
    {
     "name": "stdout",
     "output_type": "stream",
     "text": [
      "Staphylococcus_aureus_chromosome 2718780\n"
     ]
    },
    {
     "ename": "KeyboardInterrupt",
     "evalue": "",
     "output_type": "error",
     "traceback": [
      "\u001b[0;31m---------------------------------------------------------------------------\u001b[0m",
      "\u001b[0;31mKeyboardInterrupt\u001b[0m                         Traceback (most recent call last)",
      "\u001b[0;32m<ipython-input-30-26941a54cde0>\u001b[0m in \u001b[0;36m<module>\u001b[0;34m\u001b[0m\n\u001b[0;32m----> 1\u001b[0;31m \u001b[0mget_ipython\u001b[0m\u001b[0;34m(\u001b[0m\u001b[0;34m)\u001b[0m\u001b[0;34m.\u001b[0m\u001b[0mrun_cell_magic\u001b[0m\u001b[0;34m(\u001b[0m\u001b[0;34m'prun'\u001b[0m\u001b[0;34m,\u001b[0m \u001b[0;34m'-s cumulative '\u001b[0m\u001b[0;34m,\u001b[0m \u001b[0;34m'%matplotlib inline\\n%run data_path.ipynb\\nimport numpy as np\\nimport time\\nimport matplotlib.pyplot as plt\\nimport pandas as pd\\nimport os\\nfrom pympler import asizeof\\nimport cylib.cydepth as cyd\\n\\nstart_time = time.time()\\ninputfile = umap_files[\"BBv2\"]\\n\\nclass Ref_map:\\n    def __init__(self,refname,reflen,spos,epos,rlen):\\n        self.refname = refname\\n        self.reflen = reflen\\n        self.pos = [[spos,epos,rlen]]\\n        \\n    def __str__(self):\\n        return \\'{0} {1}\\'.format(self.refname,self.reflen)\\n        \\ndef getrefpos(file):\\n    with open(file, \\'r\\') as f:\\n        for line in f:\\n            llist = line.split()\\n            ref = llist[5].split(\\'-\\')[1]\\n            reflen = int(llist[6])\\n            pos = [int(llist[7]), int(llist[8])]\\n            rlen = [int(llist[1])]\\n            if ref in refdict:\\n                refdict[ref].pos.append(pos+rlen)\\n            else:\\n                if ref.find(\"Saccharomyces\") != -1: continue\\n                if ref.find(\"Cryptococcus\") != -1: continue\\n                if ref.find(\"plasmid\") != -1: continue\\n    #             if ref.find(\"Lactobacillus\") == -1: continue\\n                refdict[ref] = Ref_map(ref,reflen,*pos,*rlen)\\n\\ndef deparr(obj, arr):\\n    for spos,epos,rlen in obj.pos:\\n        arr[0][spos:epos+1] += 1\\n        arr[1][spos:epos+1] += rlen\\n\\ndef looparr(obj, arr):\\n    for spos,epos,rlen in obj.pos:\\n        for i in range(spos,epos+1):\\n            arr[0][i] += 1\\n            arr[1][i] += rlen\\n        \\nrefdict={}\\ngetrefpos(inputfile)\\n\\nfor ref,refobj in refdict.items():\\n#   if ref.find(\"Test_depth\") == -1: continue\\n    print(refobj)\\n    refarr = np.zeros([2,refobj.reflen+1])\\n    looparr(refobj,refarr)\\n#     deparr(refobj,refarr)\\n    avgarr = np.floor_divide(refarr[1], refarr[0], out=np.zeros_like(refarr[1]), where=refarr[0]!=0)\\n#       find zero position\\n    zpos=[]\\n    zpos = cyd.cpfind_extreme(avgarr, avgarr.size, 0, 0)\\n    print(\"0 depth: \", zpos)\\n    exv = 1000\\n    big=[]\\n    big = cyd.cpfind_extreme(refarr[0], refarr[0].size, exv, 1)\\n    print(\">\", exv, \"depth: \", big)\\n    ixs = np.arange(refobj.reflen+1)\\n#     plt.figure(figsize=(15,6))\\n# ######### plot per base coverage    \\n#     plt.subplot(1,2,1)\\n#     plt.plot(ixs,refarr[0],label=ref)\\n#     plt.legend(loc=\\'upper right\\')\\n# ######### plot per base average length coverage\\n#     plt.subplot(1,2,2)\\n#     plt.plot(ixs,avgarr,label=ref)\\n#     plt.legend(loc=\\'upper right\\')\\n#     plt.show()\\n    print(\\'\\\\n\\\\n\\')\\n\\n          \\n\\nprint(\"--- %s seconds ---\" % (time.time() - start_time))    \\n'\u001b[0m\u001b[0;34m)\u001b[0m\u001b[0;34m\u001b[0m\u001b[0m\n\u001b[0m",
      "\u001b[0;32m~/.conda/envs/regression/lib/python3.7/site-packages/IPython/core/interactiveshell.py\u001b[0m in \u001b[0;36mrun_cell_magic\u001b[0;34m(self, magic_name, line, cell)\u001b[0m\n\u001b[1;32m   2350\u001b[0m             \u001b[0;32mwith\u001b[0m \u001b[0mself\u001b[0m\u001b[0;34m.\u001b[0m\u001b[0mbuiltin_trap\u001b[0m\u001b[0;34m:\u001b[0m\u001b[0;34m\u001b[0m\u001b[0m\n\u001b[1;32m   2351\u001b[0m                 \u001b[0margs\u001b[0m \u001b[0;34m=\u001b[0m \u001b[0;34m(\u001b[0m\u001b[0mmagic_arg_s\u001b[0m\u001b[0;34m,\u001b[0m \u001b[0mcell\u001b[0m\u001b[0;34m)\u001b[0m\u001b[0;34m\u001b[0m\u001b[0m\n\u001b[0;32m-> 2352\u001b[0;31m                 \u001b[0mresult\u001b[0m \u001b[0;34m=\u001b[0m \u001b[0mfn\u001b[0m\u001b[0;34m(\u001b[0m\u001b[0;34m*\u001b[0m\u001b[0margs\u001b[0m\u001b[0;34m,\u001b[0m \u001b[0;34m**\u001b[0m\u001b[0mkwargs\u001b[0m\u001b[0;34m)\u001b[0m\u001b[0;34m\u001b[0m\u001b[0m\n\u001b[0m\u001b[1;32m   2353\u001b[0m             \u001b[0;32mreturn\u001b[0m \u001b[0mresult\u001b[0m\u001b[0;34m\u001b[0m\u001b[0m\n\u001b[1;32m   2354\u001b[0m \u001b[0;34m\u001b[0m\u001b[0m\n",
      "\u001b[0;32m</home/fangren106/.conda/envs/regression/lib/python3.7/site-packages/decorator.py:decorator-gen-55>\u001b[0m in \u001b[0;36mprun\u001b[0;34m(self, parameter_s, cell)\u001b[0m\n",
      "\u001b[0;32m~/.conda/envs/regression/lib/python3.7/site-packages/IPython/core/magic.py\u001b[0m in \u001b[0;36m<lambda>\u001b[0;34m(f, *a, **k)\u001b[0m\n\u001b[1;32m    185\u001b[0m     \u001b[0;31m# but it's overkill for just that one bit of state.\u001b[0m\u001b[0;34m\u001b[0m\u001b[0;34m\u001b[0m\u001b[0m\n\u001b[1;32m    186\u001b[0m     \u001b[0;32mdef\u001b[0m \u001b[0mmagic_deco\u001b[0m\u001b[0;34m(\u001b[0m\u001b[0marg\u001b[0m\u001b[0;34m)\u001b[0m\u001b[0;34m:\u001b[0m\u001b[0;34m\u001b[0m\u001b[0m\n\u001b[0;32m--> 187\u001b[0;31m         \u001b[0mcall\u001b[0m \u001b[0;34m=\u001b[0m \u001b[0;32mlambda\u001b[0m \u001b[0mf\u001b[0m\u001b[0;34m,\u001b[0m \u001b[0;34m*\u001b[0m\u001b[0ma\u001b[0m\u001b[0;34m,\u001b[0m \u001b[0;34m**\u001b[0m\u001b[0mk\u001b[0m\u001b[0;34m:\u001b[0m \u001b[0mf\u001b[0m\u001b[0;34m(\u001b[0m\u001b[0;34m*\u001b[0m\u001b[0ma\u001b[0m\u001b[0;34m,\u001b[0m \u001b[0;34m**\u001b[0m\u001b[0mk\u001b[0m\u001b[0;34m)\u001b[0m\u001b[0;34m\u001b[0m\u001b[0m\n\u001b[0m\u001b[1;32m    188\u001b[0m \u001b[0;34m\u001b[0m\u001b[0m\n\u001b[1;32m    189\u001b[0m         \u001b[0;32mif\u001b[0m \u001b[0mcallable\u001b[0m\u001b[0;34m(\u001b[0m\u001b[0marg\u001b[0m\u001b[0;34m)\u001b[0m\u001b[0;34m:\u001b[0m\u001b[0;34m\u001b[0m\u001b[0m\n",
      "\u001b[0;32m~/.conda/envs/regression/lib/python3.7/site-packages/IPython/core/magics/execution.py\u001b[0m in \u001b[0;36mprun\u001b[0;34m(self, parameter_s, cell)\u001b[0m\n\u001b[1;32m    307\u001b[0m             \u001b[0marg_str\u001b[0m \u001b[0;34m+=\u001b[0m \u001b[0;34m'\\n'\u001b[0m \u001b[0;34m+\u001b[0m \u001b[0mcell\u001b[0m\u001b[0;34m\u001b[0m\u001b[0m\n\u001b[1;32m    308\u001b[0m         \u001b[0marg_str\u001b[0m \u001b[0;34m=\u001b[0m \u001b[0mself\u001b[0m\u001b[0;34m.\u001b[0m\u001b[0mshell\u001b[0m\u001b[0;34m.\u001b[0m\u001b[0mtransform_cell\u001b[0m\u001b[0;34m(\u001b[0m\u001b[0marg_str\u001b[0m\u001b[0;34m)\u001b[0m\u001b[0;34m\u001b[0m\u001b[0m\n\u001b[0;32m--> 309\u001b[0;31m         \u001b[0;32mreturn\u001b[0m \u001b[0mself\u001b[0m\u001b[0;34m.\u001b[0m\u001b[0m_run_with_profiler\u001b[0m\u001b[0;34m(\u001b[0m\u001b[0marg_str\u001b[0m\u001b[0;34m,\u001b[0m \u001b[0mopts\u001b[0m\u001b[0;34m,\u001b[0m \u001b[0mself\u001b[0m\u001b[0;34m.\u001b[0m\u001b[0mshell\u001b[0m\u001b[0;34m.\u001b[0m\u001b[0muser_ns\u001b[0m\u001b[0;34m)\u001b[0m\u001b[0;34m\u001b[0m\u001b[0m\n\u001b[0m\u001b[1;32m    310\u001b[0m \u001b[0;34m\u001b[0m\u001b[0m\n\u001b[1;32m    311\u001b[0m     \u001b[0;32mdef\u001b[0m \u001b[0m_run_with_profiler\u001b[0m\u001b[0;34m(\u001b[0m\u001b[0mself\u001b[0m\u001b[0;34m,\u001b[0m \u001b[0mcode\u001b[0m\u001b[0;34m,\u001b[0m \u001b[0mopts\u001b[0m\u001b[0;34m,\u001b[0m \u001b[0mnamespace\u001b[0m\u001b[0;34m)\u001b[0m\u001b[0;34m:\u001b[0m\u001b[0;34m\u001b[0m\u001b[0m\n",
      "\u001b[0;32m~/.conda/envs/regression/lib/python3.7/site-packages/IPython/core/magics/execution.py\u001b[0m in \u001b[0;36m_run_with_profiler\u001b[0;34m(self, code, opts, namespace)\u001b[0m\n\u001b[1;32m    329\u001b[0m         \u001b[0mprof\u001b[0m \u001b[0;34m=\u001b[0m \u001b[0mprofile\u001b[0m\u001b[0;34m.\u001b[0m\u001b[0mProfile\u001b[0m\u001b[0;34m(\u001b[0m\u001b[0;34m)\u001b[0m\u001b[0;34m\u001b[0m\u001b[0m\n\u001b[1;32m    330\u001b[0m         \u001b[0;32mtry\u001b[0m\u001b[0;34m:\u001b[0m\u001b[0;34m\u001b[0m\u001b[0m\n\u001b[0;32m--> 331\u001b[0;31m             \u001b[0mprof\u001b[0m \u001b[0;34m=\u001b[0m \u001b[0mprof\u001b[0m\u001b[0;34m.\u001b[0m\u001b[0mrunctx\u001b[0m\u001b[0;34m(\u001b[0m\u001b[0mcode\u001b[0m\u001b[0;34m,\u001b[0m \u001b[0mnamespace\u001b[0m\u001b[0;34m,\u001b[0m \u001b[0mnamespace\u001b[0m\u001b[0;34m)\u001b[0m\u001b[0;34m\u001b[0m\u001b[0m\n\u001b[0m\u001b[1;32m    332\u001b[0m             \u001b[0msys_exit\u001b[0m \u001b[0;34m=\u001b[0m \u001b[0;34m''\u001b[0m\u001b[0;34m\u001b[0m\u001b[0m\n\u001b[1;32m    333\u001b[0m         \u001b[0;32mexcept\u001b[0m \u001b[0mSystemExit\u001b[0m\u001b[0;34m:\u001b[0m\u001b[0;34m\u001b[0m\u001b[0m\n",
      "\u001b[0;32m~/.conda/envs/regression/lib/python3.7/cProfile.py\u001b[0m in \u001b[0;36mrunctx\u001b[0;34m(self, cmd, globals, locals)\u001b[0m\n\u001b[1;32m     98\u001b[0m         \u001b[0mself\u001b[0m\u001b[0;34m.\u001b[0m\u001b[0menable\u001b[0m\u001b[0;34m(\u001b[0m\u001b[0;34m)\u001b[0m\u001b[0;34m\u001b[0m\u001b[0m\n\u001b[1;32m     99\u001b[0m         \u001b[0;32mtry\u001b[0m\u001b[0;34m:\u001b[0m\u001b[0;34m\u001b[0m\u001b[0m\n\u001b[0;32m--> 100\u001b[0;31m             \u001b[0mexec\u001b[0m\u001b[0;34m(\u001b[0m\u001b[0mcmd\u001b[0m\u001b[0;34m,\u001b[0m \u001b[0mglobals\u001b[0m\u001b[0;34m,\u001b[0m \u001b[0mlocals\u001b[0m\u001b[0;34m)\u001b[0m\u001b[0;34m\u001b[0m\u001b[0m\n\u001b[0m\u001b[1;32m    101\u001b[0m         \u001b[0;32mfinally\u001b[0m\u001b[0;34m:\u001b[0m\u001b[0;34m\u001b[0m\u001b[0m\n\u001b[1;32m    102\u001b[0m             \u001b[0mself\u001b[0m\u001b[0;34m.\u001b[0m\u001b[0mdisable\u001b[0m\u001b[0;34m(\u001b[0m\u001b[0;34m)\u001b[0m\u001b[0;34m\u001b[0m\u001b[0m\n",
      "\u001b[0;32m<string>\u001b[0m in \u001b[0;36m<module>\u001b[0;34m\u001b[0m\n",
      "\u001b[0;32m<string>\u001b[0m in \u001b[0;36mlooparr\u001b[0;34m(obj, arr)\u001b[0m\n",
      "\u001b[0;31mKeyboardInterrupt\u001b[0m: "
     ]
    }
   ],
   "source": [
    "%%prun -s cumulative \n",
    "%matplotlib inline\n",
    "%run data_path.ipynb\n",
    "import numpy as np\n",
    "import time\n",
    "import matplotlib.pyplot as plt\n",
    "import pandas as pd\n",
    "import os\n",
    "from pympler import asizeof\n",
    "import cylib.cydepth as cyd\n",
    "\n",
    "start_time = time.time()\n",
    "inputfile = umap_files[\"BBv2\"]\n",
    "\n",
    "class Ref_map:\n",
    "    def __init__(self,refname,reflen,spos,epos,rlen):\n",
    "        self.refname = refname\n",
    "        self.reflen = reflen\n",
    "        self.pos = [[spos,epos,rlen]]\n",
    "        \n",
    "    def __str__(self):\n",
    "        return '{0} {1}'.format(self.refname,self.reflen)\n",
    "        \n",
    "def getrefpos(file):\n",
    "    with open(file, 'r') as f:\n",
    "        for line in f:\n",
    "            llist = line.split()\n",
    "            ref = llist[5].split('-')[1]\n",
    "            reflen = int(llist[6])\n",
    "            pos = [int(llist[7]), int(llist[8])]\n",
    "            rlen = [int(llist[1])]\n",
    "            if ref in refdict:\n",
    "                refdict[ref].pos.append(pos+rlen)\n",
    "            else:\n",
    "                if ref.find(\"Saccharomyces\") != -1: continue\n",
    "                if ref.find(\"Cryptococcus\") != -1: continue\n",
    "                if ref.find(\"plasmid\") != -1: continue\n",
    "    #             if ref.find(\"Lactobacillus\") == -1: continue\n",
    "                refdict[ref] = Ref_map(ref,reflen,*pos,*rlen)\n",
    "\n",
    "def deparr(obj, arr):\n",
    "    for spos,epos,rlen in obj.pos:\n",
    "        arr[0][spos:epos+1] += 1\n",
    "        arr[1][spos:epos+1] += rlen\n",
    "\n",
    "\n",
    "        \n",
    "refdict={}\n",
    "getrefpos(inputfile)\n",
    "\n",
    "for ref,refobj in refdict.items():\n",
    "#   if ref.find(\"Test_depth\") == -1: continue\n",
    "    print(refobj)\n",
    "    refarr = np.zeros([2,refobj.reflen+1])\n",
    "    looparr(refobj,refarr)\n",
    "#     deparr(refobj,refarr)\n",
    "    avgarr = np.floor_divide(refarr[1], refarr[0], out=np.zeros_like(refarr[1]), where=refarr[0]!=0)\n",
    "#       find zero position\n",
    "    zpos=[]\n",
    "    zpos = cyd.cpfind_extreme(avgarr, avgarr.size, 0, 0)\n",
    "    print(\"0 depth: \", zpos)\n",
    "    exv = 1000\n",
    "    big=[]\n",
    "    big = cyd.cpfind_extreme(refarr[0], refarr[0].size, exv, 1)\n",
    "    print(\">\", exv, \"depth: \", big)\n",
    "    ixs = np.arange(refobj.reflen+1)\n",
    "    plt.figure(figsize=(15,6))\n",
    "######### plot per base coverage    \n",
    "    plt.subplot(1,2,1)\n",
    "    plt.plot(ixs,refarr[0],label=ref)\n",
    "    plt.legend(loc='upper right')\n",
    "######### plot per base average length coverage\n",
    "    plt.subplot(1,2,2)\n",
    "    plt.plot(ixs,avgarr,label=ref)\n",
    "    plt.legend(loc='upper right')\n",
    "    plt.show()\n",
    "    print('\\n\\n')\n",
    "\n",
    "          \n",
    "\n",
    "print(\"--- %s seconds ---\" % (time.time() - start_time))    "
   ]
  },
  {
   "cell_type": "code",
   "execution_count": null,
   "metadata": {},
   "outputs": [],
   "source": []
  }
 ],
 "metadata": {
  "kernelspec": {
   "display_name": "Python [conda env:regression] *",
   "language": "python",
   "name": "conda-env-regression-py"
  },
  "language_info": {
   "codemirror_mode": {
    "name": "ipython",
    "version": 3
   },
   "file_extension": ".py",
   "mimetype": "text/x-python",
   "name": "python",
   "nbconvert_exporter": "python",
   "pygments_lexer": "ipython3",
   "version": "3.7.0"
  }
 },
 "nbformat": 4,
 "nbformat_minor": 2
}
