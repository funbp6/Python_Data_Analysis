{
 "cells": [
  {
   "cell_type": "code",
   "execution_count": 3,
   "metadata": {
    "scrolled": true
   },
   "outputs": [
    {
     "name": "stdout",
     "output_type": "stream",
     "text": [
      "[NbConvertApp] Converting notebook parse_paf.ipynb to script\n",
      "[NbConvertApp] Writing 1536 bytes to parse_paf.py\n"
     ]
    },
    {
     "name": "stderr",
     "output_type": "stream",
     "text": [
      "usage: ipykernel_launcher.py [-h] [-o OUT] paf_file\n",
      "ipykernel_launcher.py: error: unrecognized arguments: -f\n"
     ]
    },
    {
     "ename": "SystemExit",
     "evalue": "2",
     "output_type": "error",
     "traceback": [
      "An exception has occurred, use %tb to see the full traceback.\n",
      "\u001b[0;31mSystemExit\u001b[0m\u001b[0;31m:\u001b[0m 2\n"
     ]
    },
    {
     "name": "stderr",
     "output_type": "stream",
     "text": [
      "/usr/local/lib/python3.4/site-packages/IPython/core/interactiveshell.py:2969: UserWarning: To exit: use 'exit', 'quit', or Ctrl-D.\n",
      "  warn(\"To exit: use 'exit', 'quit', or Ctrl-D.\", stacklevel=1)\n"
     ]
    }
   ],
   "source": [
    "##!jupyter nbconvert --to script parse_paf.ipynb\n",
    "import time\n",
    "import argparse\n",
    "\n",
    "start_time = time.time()\n",
    "\n",
    "# p = argparse.ArgumentParser()\n",
    "# p.add_argument('paf_file', help='paf file')\n",
    "# p.add_argument('-o', '--out', help='output file name')\n",
    "# args = p.parse_args()\n",
    "# input_paf = args.paf_file\n",
    "# output_file = args.out\n",
    "\n",
    "input_paf=\"new_test.paf\"\n",
    "output_file=\"new_test.out\"\n",
    "\n",
    "\n",
    "ltotal=[]\n",
    "fhit_hash={}\n",
    "with open(input_paf,'r') as f:\n",
    "    for line in f:\n",
    "        llist=line.split()\n",
    "        if  llist[0] not in fhit_hash:\n",
    "            fhit_hash[llist[0]]=1\n",
    "            split1=llist[5].split(\"-\", 1)\n",
    "            kindom=split1[0]\n",
    "            split2=split1[1].split(\"_\", 2)\n",
    "            genus=split2[0]\n",
    "            speices=split2[1]\n",
    "            #print(type(llist[10]))\n",
    "            ident=int(llist[10])/int(llist[1])\n",
    "            read_cover=int(llist[9])/int(llist[10])\n",
    "            tmpl=[llist[0], kindom, genus, speices, llist[10], round(read_cover,4), round(ident,4)]\n",
    "            ltotal.append(tmpl)\n",
    "\n",
    "\n",
    "with open(output_file,'w') as of:\n",
    "    for item in ltotal:\n",
    "        for i in item:\n",
    "            of.write('%s ' % i)\n",
    "        of.write('\\n')\n",
    "\n",
    "\n",
    "\n",
    "\n",
    "# AWK method\n",
    "\n",
    "# awk -v pick_num=3 -v seed=$RANDOM 'BEGIN{newl=0;srand(seed);}\n",
    "# !($1 in a){split($6,a,\"-\");split(a[2],b,\"_\");c[++newl]=$1\" \"b[1]\" \"$11/$2\" \"$10/$11;a[$1]}\n",
    "# END{for(i=1;i<=pick_num;i++){ri=int(1+rand()*(newl));\n",
    "#     if(ri in p){i--;continue;}p[ri];printf ri\" \"}print \"\";\n",
    "#     for(i in p)print i,c[i]}' file_name\n",
    "\n",
    "\n",
    "\n",
    "print(\"--- %s seconds ---\" % (time.time() - start_time))\n"
   ]
  },
  {
   "cell_type": "code",
   "execution_count": null,
   "metadata": {},
   "outputs": [],
   "source": []
  }
 ],
 "metadata": {
  "kernelspec": {
   "display_name": "Python 3",
   "language": "python",
   "name": "python3"
  },
  "language_info": {
   "codemirror_mode": {
    "name": "ipython",
    "version": 3
   },
   "file_extension": ".py",
   "mimetype": "text/x-python",
   "name": "python",
   "nbconvert_exporter": "python",
   "pygments_lexer": "ipython3",
   "version": "3.4.3"
  }
 },
 "nbformat": 4,
 "nbformat_minor": 2
}
