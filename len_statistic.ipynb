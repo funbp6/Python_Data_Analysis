{
 "cells": [
  {
   "cell_type": "code",
   "execution_count": 52,
   "metadata": {
    "scrolled": true
   },
   "outputs": [
    {
     "name": "stdout",
     "output_type": "stream",
     "text": [
      "Total mapped read number = 3123881 \n",
      "\n",
      "name\tratio num total avg median std\n",
      "Total\t\t100% 3123881 13584557176 4349.0 3856.0 2522.0\n",
      "Enterococcus\t0.0% 39 243548 6245.0 4597.0 4595.0\n",
      "Escherichia\t0.1% 1742 12508056 7180.0 6114.0 4861.0\n",
      "Lactobacillus\t0.0% 167 533763 3196.0 2581.0 2127.0\n",
      "Saccharomyces\t0.6% 18520 71280314 3849.0 3447.0 2131.0\n",
      "Pseudomonas\t5.2% 162487 1169468391 7197.0 6083.0 4738.0\n",
      "Listeria\t92.9% 2902208 12159537795 4190.0 3794.0 2228.0\n",
      "Salmonella\t0.1% 1593 11309738 7100.0 5858.0 4768.0\n",
      "Bacillus\t1.2% 37107 159605990 4301.0 3827.0 2467.0\n",
      "Staphylococcus\t0.0% 2 11500 5750.0 5750.0 1910.0\n",
      "Cryptococcus\t0.0% 16 58081 3630.0 3228.0 1442.0\n",
      "--- 52.47376728057861 seconds ---\n"
     ]
    }
   ],
   "source": [
    "%matplotlib notebook\n",
    "import numpy as np\n",
    "import time\n",
    "import matplotlib \n",
    "import matplotlib.pyplot as plt\n",
    "\n",
    "start_time = time.time()\n",
    "\n",
    "class Distri:\n",
    "    def __init__(self,name,rlen_total):\n",
    "        self.name = name\n",
    "        self.lenlist=[]\n",
    "        self.rnum = 0\n",
    "        self.rnum_ratio = 0\n",
    "        self.rlen_total = rlen_total\n",
    "        self.rlen_avg = 0\n",
    "        self.rlen_median = 0\n",
    "        self.rlen_std = 0\n",
    "    def __str__(self):\n",
    "        liststr = ','.join([str(i) for i in self.lenlist])\n",
    "        return self.name+\"\\t\"+str(self.rnum_ratio)+\" \"+str(self.rnum)+\" \"+str(self.rlen_total)+\" \"+\\\n",
    "    str(self.rlen_avg)+\" \"+str(self.rlen_median)+\" \"+str(self.rlen_std)\n",
    "        \n",
    "sumdis = Distri(\"Total\",0)\n",
    "inputfile = \"/big6_disk/fangren106/mock_community/v2_zymo/log/alignment/true_uniq_map.paf\"\n",
    "Tdistri = {}\n",
    "with open(inputfile,'r') as f:\n",
    "    for line in f:\n",
    "        llist = line.split()\n",
    "        name = llist[5].split(\"-\")[1]\n",
    "        name = name.split(\"_\")[0]\n",
    "        rlen = int(llist[1])\n",
    "        if name not in Tdistri:\n",
    "            dis = Distri(name,rlen)\n",
    "            dis.rnum += 1\n",
    "            dis.lenlist.append(rlen)\n",
    "            Tdistri[name]=dis\n",
    "            sumdis.rnum +=1\n",
    "            sumdis.lenlist.append(rlen)\n",
    "            sumdis.rlen_total += rlen\n",
    "        else:\n",
    "            Tdistri[name].lenlist.append(rlen)\n",
    "            Tdistri[name].rnum +=1\n",
    "            Tdistri[name].rlen_total += rlen\n",
    "            sumdis.rnum +=1\n",
    "            sumdis.lenlist.append(rlen)\n",
    "            sumdis.rlen_total += rlen\n",
    "\n",
    "for name,dis in Tdistri.items():\n",
    "    dis.rnum_ratio = \"{0:.1%}\".format(dis.rnum/sumdis.rnum)\n",
    "    dis.rlen_avg = np.round(np.average(dis.lenlist),0)\n",
    "    dis.rlen_median = np.round(np.median(dis.lenlist),0)\n",
    "    dis.rlen_std = np.round(np.std(dis.lenlist),0)\n",
    "sumdis.rnum_ratio = \"\\t{0}\".format(\"100%\")\n",
    "sumdis.rlen_avg = np.round(np.average(sumdis.lenlist),0)\n",
    "sumdis.rlen_median = np.round(np.median(sumdis.lenlist),0)\n",
    "sumdis.rlen_std = np.round(np.std(sumdis.lenlist),0)    \n",
    "print (\"Total mapped read number =\",sumdis.rnum,\"\\n\")\n",
    "print (\"name\\tratio num total avg median std\")\n",
    "print (sumdis)\n",
    "for name,dis in Tdistri.items():\n",
    "    print (dis)\n",
    "            \n",
    "print(\"--- %s seconds ---\" % (time.time() - start_time))"
   ]
  },
  {
   "cell_type": "code",
   "execution_count": null,
   "metadata": {},
   "outputs": [],
   "source": []
  }
 ],
 "metadata": {
  "kernelspec": {
   "display_name": "Python 3",
   "language": "python",
   "name": "python3"
  },
  "language_info": {
   "codemirror_mode": {
    "name": "ipython",
    "version": 3
   },
   "file_extension": ".py",
   "mimetype": "text/x-python",
   "name": "python",
   "nbconvert_exporter": "python",
   "pygments_lexer": "ipython3",
   "version": "3.4.3"
  }
 },
 "nbformat": 4,
 "nbformat_minor": 2
}
